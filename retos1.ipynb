{
 "cells": [
  {
   "cell_type": "markdown",
   "metadata": {},
   "source": [
    "## Retos del día\n",
    "\n",
    "Los retos del día están diseñados para permitirte practicar los conceptos aprendidos y empezar a explorar el lenguaje de programación. \n",
    "\n",
    "Recuerda tomar el tiempo en analizar y planear la solución antes de empezar a programar!\n",
    "\n",
    "### Reto del día 1\n",
    "\n",
    "Escribe el código que lea las cuatro notas de un estudiante (Cada nota en la escala entre 1 y 5) e imprima el promedio de las mismas."
   ]
  },
  {
   "cell_type": "code",
   "execution_count": 5,
   "metadata": {},
   "outputs": [
    {
     "data": {
      "text/plain": [
       "4.175"
      ]
     },
     "execution_count": 5,
     "metadata": {},
     "output_type": "execute_result"
    }
   ],
   "source": [
    "def reto1(x,y,z,w):\n",
    "    suma=x+y+z+w\n",
    "    prom=suma/4\n",
    "    \n",
    "    return prom # Reemplaza 0 por la variable que tiene el resultado\n",
    "\n",
    "reto1(3.6,3.9,4.2,5.0)"
   ]
  },
  {
   "cell_type": "markdown",
   "metadata": {},
   "source": [
    "### Reto del día 2\n",
    "\n",
    "Escribe el código para leer un número entero x e imprime el número de dígitos de x. Por ejemplo, 345 tiene 3 dígitos y 4000 tiene 4 dígitos."
   ]
  },
  {
   "cell_type": "code",
   "execution_count": 8,
   "metadata": {},
   "outputs": [
    {
     "data": {
      "text/plain": [
       "3"
      ]
     },
     "execution_count": 8,
     "metadata": {},
     "output_type": "execute_result"
    }
   ],
   "source": [
    "def reto2(x):\n",
    "    num=int(x)\n",
    "    contador=len(str(num))\n",
    "    \n",
    "    return contador # Reemplaza 0 por la variable que tiene el resultado\n",
    "\n",
    "reto2(154)"
   ]
  },
  {
   "cell_type": "markdown",
   "metadata": {},
   "source": [
    "### Reto del día 3\n",
    "\n",
    "Escribe el código para leer un número entero e imprime el último dígito."
   ]
  },
  {
   "cell_type": "code",
   "execution_count": 11,
   "metadata": {},
   "outputs": [
    {
     "data": {
      "text/plain": [
       "4"
      ]
     },
     "execution_count": 11,
     "metadata": {},
     "output_type": "execute_result"
    }
   ],
   "source": [
    "def reto3(x):\n",
    "    ultimodigito=int(repr(x)[-1])\n",
    "    # > 9 # Escribe tu código aquí. Manten la identación!!\n",
    "     \n",
    "    return ultimodigito #Reemplaza 0 por la variable que tiene el resultado\n",
    "\n",
    "reto3(124654)"
   ]
  },
  {
   "cell_type": "markdown",
   "metadata": {},
   "source": [
    "### Reto del día 4\n",
    "\n",
    "Escribe el código para leer dos números enteros(x, y) de dos dígitos y determina a cuánto es igual la suma de todos los dígitos. Imprime el resultado.\n"
   ]
  },
  {
   "cell_type": "code",
   "execution_count": 13,
   "metadata": {},
   "outputs": [
    {
     "data": {
      "text/plain": [
       "9"
      ]
     },
     "execution_count": 13,
     "metadata": {},
     "output_type": "execute_result"
    }
   ],
   "source": [
    "def reto4(x,y):\n",
    "    suma=x+y\n",
    "    \n",
    "    return suma # Reemplaza 0 por la variable que tiene el resultado\n",
    "\n",
    "reto4(4,5)"
   ]
  }
 ],
 "metadata": {
  "kernelspec": {
   "display_name": "Python 3",
   "language": "python",
   "name": "python3"
  },
  "language_info": {
   "codemirror_mode": {
    "name": "ipython",
    "version": 3
   },
   "file_extension": ".py",
   "mimetype": "text/x-python",
   "name": "python",
   "nbconvert_exporter": "python",
   "pygments_lexer": "ipython3",
   "version": "3.7.8"
  }
 },
 "nbformat": 4,
 "nbformat_minor": 4
}
