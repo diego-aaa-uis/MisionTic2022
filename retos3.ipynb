{
  "nbformat": 4,
  "nbformat_minor": 0,
  "metadata": {
    "kernelspec": {
      "display_name": "Python 3",
      "language": "python",
      "name": "python3"
    },
    "language_info": {
      "codemirror_mode": {
        "name": "ipython",
        "version": 3
      },
      "file_extension": ".py",
      "mimetype": "text/x-python",
      "name": "python",
      "nbconvert_exporter": "python",
      "pygments_lexer": "ipython3",
      "version": "3.8.3"
    },
    "colab": {
      "name": "Sesion_3_retos-.ipynb",
      "provenance": [],
      "collapsed_sections": []
    }
  },
  "cells": [
    {
      "cell_type": "markdown",
      "metadata": {
        "id": "CRj9Fl3iZz4J",
        "colab_type": "text"
      },
      "source": [
        "## Retos del día\n",
        "\n",
        "Los retos del día están diseñados para permitirte practicar los conceptos aprendidos y empezar a explorar el lenguaje de programación. \n",
        "\n",
        "Recuerda tomar el tiempo en analizar y planear la solución antes de empezar a programar!\n",
        "\n",
        "### Reto del día 1\n",
        "\n",
        "Pedro y Jesús son dos hermanos, hijos únicos de Simón, y quienes tienen acceso a una bóveda en un exclusivo banco. El dueño original de esta bóveda es su padre, y en su testamento ha especificado las siguientes condiciones para que el banco le permita acceder a sus hijos al contenido de dicha bóveda. Las condiciones son las siguientes:\n",
        "\n",
        "    a. Juan debe ser mayor de 35 años, o Pedro debe ser menor de 50 años.\n",
        "    b. La suma de sus edades debe ser un número par.\n",
        "    c. Simón debe tener mínimo 1 nieto.\n",
        "\n",
        "Construye un algoritmo que lea la edad de Juan, la edad de Pedro y el número de nietos y calcule, usando condicionales, si tienen acceso (SI) o no (NO) a la bóveda."
      ]
    },
    {
      "cell_type": "code",
      "metadata": {
        "id": "wZVW45i4Zz4R",
        "colab_type": "code",
        "colab": {
          "base_uri": "https://localhost:8080/",
          "height": 34
        },
        "outputId": "39ab1376-12b0-4697-fe41-2a2d233c11d1"
      },
      "source": [
        "def reto1(edadJuan, edadPedro,nietos):\n",
        "    if edadJuan >= 35 and edadPedro <=50:\n",
        "      sum = edadPedro + edadJuan\n",
        "      if sum %2 == 0 and nietos > 0:\n",
        "        acceso = print(\"SI\")\n",
        "      else:\n",
        "        acceso = print(\"NO\")\n",
        "    else:\n",
        "      acceso = print(\"NO\")\n",
        "    return acceso # Reemplaza 0 por la variable que tiene el resultado\n",
        "\n",
        "reto1(36, 45, 2)"
      ],
      "execution_count": 82,
      "outputs": [
        {
          "output_type": "stream",
          "text": [
            "NO\n"
          ],
          "name": "stdout"
        }
      ]
    },
    {
      "cell_type": "markdown",
      "metadata": {
        "id": "Z1n6V5CVZz40",
        "colab_type": "text"
      },
      "source": [
        "### Reto del día 2\n",
        "\n",
        "El incremento salarial de la compañía Y se determina de acuerdo al desempeño de cada empleado. \n",
        "\n",
        "Cada jefe de área le asigna una calificación entre 1 y 25 a cada empleado por dos factor: culminación de proyectos y trabajo en equipo. El desempeño es calculado sumando el resultado de ambos factores y determinando el porcentaje total.\n",
        "\n",
        "Los empleados que obtengan más del 60% de desempeño y al menos 12 puntos en cada factor obtendrán un incremento de 5%. El resto de empleados obtendran 2.5%.\n",
        "\n",
        "Escribe el código que permita, a partir del valor de los factores ingresados por el gerente e imprima el porcentaje a incrementar (0.025 = 2.5% y 0.05 = 5%)."
      ]
    },
    {
      "cell_type": "code",
      "metadata": {
        "id": "cv3KLHmNZz4-",
        "colab_type": "code",
        "colab": {
          "base_uri": "https://localhost:8080/",
          "height": 34
        },
        "outputId": "1b66500e-2b2b-4440-fdb0-063599da90cf"
      },
      "source": [
        "def reto2(factorProyecto, factorEquipo):\n",
        "    p=factorProyecto\n",
        "    e=factorEquipo\n",
        "    total=p+e\n",
        "    frac=total/50\n",
        "    if frac>0.60 and p>=12 and e>=12:\n",
        "      resul=0.05\n",
        "    else:\n",
        "      resul=0.025\n",
        "    return resul # Reemplaza 0 por la variable que tiene el resultado\n",
        "\n",
        "reto2(14,14) "
      ],
      "execution_count": 76,
      "outputs": [
        {
          "output_type": "execute_result",
          "data": {
            "text/plain": [
              "0.025"
            ]
          },
          "metadata": {
            "tags": []
          },
          "execution_count": 76
        }
      ]
    },
    {
      "cell_type": "markdown",
      "metadata": {
        "id": "nSie1kmCZz5T",
        "colab_type": "text"
      },
      "source": [
        "### Reto del día 3 \n",
        "\n",
        "Escribe un algoritmo que dado un número del 1 al 10 determine si es par o impar."
      ]
    },
    {
      "cell_type": "code",
      "metadata": {
        "id": "m8L8qILWZz5X",
        "colab_type": "code",
        "colab": {
          "base_uri": "https://localhost:8080/",
          "height": 34
        },
        "outputId": "fdaa19e5-75e9-49a0-ab5b-b46e5fa38500"
      },
      "source": [
        "def reto3(x):\n",
        "    num=x\n",
        "    if x%2==0:\n",
        "      resul=print(\"par\")\n",
        "    else:\n",
        "      resul=print(\"impar\")\n",
        "    \n",
        "    return resul # Reemplaza 0 por la variable que tiene el resultado\n",
        "reto3(5) "
      ],
      "execution_count": 81,
      "outputs": [
        {
          "output_type": "stream",
          "text": [
            "impar\n"
          ],
          "name": "stdout"
        }
      ]
    }
  ]
}