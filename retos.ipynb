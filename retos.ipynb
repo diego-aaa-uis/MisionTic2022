{
 "cells": [
  {
   "cell_type": "markdown",
   "metadata": {},
   "source": [
    "## Retos del día\n",
    "\n",
    "Los retos del día están diseñados para permitirte practicar los conceptos aprendidos y empezar a explorar el lenguaje de programación. \n",
    "\n",
    "Recuerda tomar el tiempo en analizar y planear la solución antes de empezar a programar!\n",
    "\n",
    "### Reto del día 1\n",
    "\n",
    "Escriba un algoritmo que lea un número entero N mayor que 100 (debe validar el número y si es menor de 100 retornar \"Error en el numero\"). Si N termina en 4,7 ó 9; diga si es divisible por 3, si termina en 1 ó 5, divida por 10 y retorne el valor entero, en otro caso divida el número entre 3 y retorne su residuo. "
   ]
  },
  {
   "cell_type": "code",
   "execution_count": 4,
   "metadata": {},
   "outputs": [
    {
     "data": {
      "text/plain": [
       "'No es divisible por 3'"
      ]
     },
     "execution_count": 4,
     "metadata": {},
     "output_type": "execute_result"
    }
   ],
   "source": [
    "def reto1(N):\n",
    "    ultimo=N%10\n",
    "    \n",
    "    if N<100:\n",
    "        result=\"Error en el numero\"\n",
    "    else:\n",
    "        if ultimo==4 or ultimo==7 or ultimo ==9:\n",
    "            resid=N%3\n",
    "            if resid==0:\n",
    "                result=\"si es divisible por 3\"\n",
    "            else:\n",
    "                result=\"No es divisible por 3\"\n",
    "        elif ultimo==1 or ultimo==5:\n",
    "            entero=N//10\n",
    "            result=entero\n",
    "        else:\n",
    "            result=N%3\n",
    "    return result  # Reemplaza 0 por la variable que tiene el resultado\n",
    "\n",
    "reto1(164)"
   ]
  },
  {
   "cell_type": "markdown",
   "metadata": {},
   "source": [
    "### Reto del día 2\n",
    "\n",
    "La ley de Ohm establece una relación entre la intensidad de corriente (I) que circula por un circuito, la diferencia de potencial (V) y la resistencia (R) del mismo mediante la siguiente fórmula: I =V / R \n",
    "\n",
    "\n",
    "Hacer un algoritmo que solicite la opción a calcular: 1 para calcular I, 2 para calcular V o 3 para calcular R utilizando un diccionario en Python; asi como tres variables I, V y R donde aquella a calcular sea 0.\n",
    "\n",
    "El codigo debe mostrar el resultado. <b>Ojo:</b> Se debe validar que los datos suministrados deben ser mayores que cero excepto para la variable a calcular, de lo contrario retornar \"Error en los numeros\". "
   ]
  },
  {
   "cell_type": "code",
   "execution_count": 5,
   "metadata": {},
   "outputs": [
    {
     "data": {
      "text/plain": [
       "'Error en los numeros'"
      ]
     },
     "execution_count": 5,
     "metadata": {},
     "output_type": "execute_result"
    }
   ],
   "source": [
    "def reto2(opcion, valorI, valorV, valorR):\n",
    "    I=0\n",
    "    I=valorV/valorR\n",
    "    R=0\n",
    "    R=valorV/valorI\n",
    "    V=0\n",
    "    V=valorI+valorR\n",
    "    \n",
    "    dic= {\n",
    "        1 : I,\n",
    "        2 : V,\n",
    "        3 : R,\n",
    "    }\n",
    "    if valorI==0 or valorR==0 or valorV==0:\n",
    "        result=\"Error en los numeros\"\n",
    "    elif valorI>0 or valorR>0 or valorV>0:\n",
    "        result=dic.get(opcion)\n",
    "    elif valorI<0 and valorR<0 and valorV<0:\n",
    "        result=\"Error en los numeros\"\n",
    "        \n",
    "    return result # Reemplaza 0 por la variable que tiene el resultado\n",
    "reto2(2,2.5,0,50) "
   ]
  },
  {
   "cell_type": "markdown",
   "metadata": {},
   "source": [
    "### Reto del día 3 \n",
    "\n",
    "Construye un algoritmo que dados 3 números que representan una fecha (MM, DD, AAAA), el algoritmo debe mostrar la fecha en formato largo. Ej. si los números ingresados son: 11, 7, 85 la fecha a mostrar sería “Noviembre, 7 de 1985”. Ojo: Conserva el formato mostrado incluyendo comas y espacios.\n",
    "\n",
    "Utilizar Dependiendo_De para determinar el Mes y validar que el dia este entre 1 y 31, el mes entre 1 y 12 y el año entre 1 y 2999. Si alguna validación falla, retornar \"Error en los numeros\". "
   ]
  },
  {
   "cell_type": "code",
   "execution_count": 6,
   "metadata": {},
   "outputs": [
    {
     "name": "stdout",
     "output_type": "stream",
     "text": [
      "Septiembre , 12 de 2021\n"
     ]
    }
   ],
   "source": [
    "def reto3(mes, dia, año):\n",
    "    month = {\n",
    "            1 : \"Enero\",\n",
    "            2 : \"Febrero\",\n",
    "            3 : \"Marzo\",\n",
    "            4 : \"Abril\",\n",
    "            5 : \"Mayo\",\n",
    "            6 : \"Junio\",\n",
    "            7 : \"Julio\",\n",
    "            8 : \"Agosto\",\n",
    "            9 : \"Septiembre\",\n",
    "            10 : \"Octubre\",\n",
    "            11 : \"Noviembre\",\n",
    "            12 : \"Diciembre\"\n",
    "        }\n",
    "    if mes>=1 and mes<=12:\n",
    "        fecha1=(month.get(mes))\n",
    "    if mes>12:\n",
    "        fecha1=\"Error en los numeros\"\n",
    "    if dia>=1 and dia<=31:\n",
    "        fecha2=(dia)\n",
    "    else:\n",
    "        fecha=\"Error en los numeros\"\n",
    "    if año>=1 and año<=2999:\n",
    "        fecha3=año\n",
    "    else:\n",
    "        fecha=\"Error en los numeros\"\n",
    "    \n",
    "   \n",
    "    \n",
    "    fecha=print(fecha1,\",\", fecha2, \"de\",fecha3 )\n",
    "\n",
    "    return fecha # Reemplaza 0 por la variable que tiene el resultado\n",
    "reto3(9,12,2021)"
   ]
  }
 ],
 "metadata": {
  "kernelspec": {
   "display_name": "Python 3",
   "language": "python",
   "name": "python3"
  },
  "language_info": {
   "codemirror_mode": {
    "name": "ipython",
    "version": 3
   },
   "file_extension": ".py",
   "mimetype": "text/x-python",
   "name": "python",
   "nbconvert_exporter": "python",
   "pygments_lexer": "ipython3",
   "version": "3.8.3"
  }
 },
 "nbformat": 4,
 "nbformat_minor": 4
}
