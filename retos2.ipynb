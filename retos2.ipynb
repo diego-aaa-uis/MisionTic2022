{
  "nbformat": 4,
  "nbformat_minor": 0,
  "metadata": {
    "kernelspec": {
      "display_name": "Python 3",
      "language": "python",
      "name": "python3"
    },
    "language_info": {
      "codemirror_mode": {
        "name": "ipython",
        "version": 3
      },
      "file_extension": ".py",
      "mimetype": "text/x-python",
      "name": "python",
      "nbconvert_exporter": "python",
      "pygments_lexer": "ipython3",
      "version": "3.8.3"
    },
    "colab": {
      "name": "Sesion_2_retos.ipynb",
      "provenance": []
    }
  },
  "cells": [
    {
      "cell_type": "markdown",
      "metadata": {
        "id": "QWF4JpTvPMI1",
        "colab_type": "text"
      },
      "source": [
        "## Retos del día\n",
        "\n",
        "Los retos del día están diseñados para permitirte practicar los conceptos aprendidos y empezar a explorar el lenguaje de programación. \n",
        "\n",
        "Recuerda tomar el tiempo en analizar y planear la solución antes de empezar a programar!\n",
        "\n",
        "### Reto del día 1\n",
        "\n",
        "Escribe un algoritmo que lea un número de 4 dígitos y lo invierta."
      ]
    },
    {
      "cell_type": "code",
      "metadata": {
        "id": "C45MC32ZPMI7",
        "colab_type": "code",
        "colab": {
          "base_uri": "https://localhost:8080/",
          "height": 35
        },
        "outputId": "fc30d314-38b5-4b7e-8273-dd2fcaf60c5c"
      },
      "source": [
        "def reto1(x):\n",
        "    c4 = x % 10\n",
        "    c3 = int ((x % 100) / 10)\n",
        "    c2 = int((x % 1000) / 100)\n",
        "    c1 = int((x % 10000) / 1000)\n",
        "    inverso = (str(c4)+str(c3)+str(c2)+str(c1))\n",
        "    return inverso  # Reemplaza 0 por la variable que tiene el resultado\n",
        "\n",
        "reto1(1234) "
      ],
      "execution_count": 23,
      "outputs": [
        {
          "output_type": "execute_result",
          "data": {
            "application/vnd.google.colaboratory.intrinsic+json": {
              "type": "string"
            },
            "text/plain": [
              "'4321'"
            ]
          },
          "metadata": {
            "tags": []
          },
          "execution_count": 23
        }
      ]
    },
    {
      "cell_type": "markdown",
      "metadata": {
        "id": "io8Xbr8qPMJX",
        "colab_type": "text"
      },
      "source": [
        "### Reto del día 2\n",
        "\n",
        "En una alcancía se tienen monedas de 50, 100, 200 y 500 pesos. Escriba el algoritmo que permita averiguar cuánto dinero hay en la alcancía. En este caso, pregunta al usuario que ingrese el número de monedas de cada denominación.\n"
      ]
    },
    {
      "cell_type": "code",
      "metadata": {
        "id": "UC4ZwMrdPMJh",
        "colab_type": "code",
        "colab": {
          "base_uri": "https://localhost:8080/",
          "height": 34
        },
        "outputId": "628c298e-768f-4a2e-ccf8-7740a061a250"
      },
      "source": [
        "def reto2(x50,x100,x200,x500):\n",
        "    mon50 = x50*50\n",
        "    mon100 = x100*100\n",
        "    mon200 = x200*200\n",
        "    mon500 = x500*500\n",
        "    suma=mon50+mon100+mon200+mon500\n",
        "    return suma # Reemplaza 0 por la variable que tiene el resultado\n",
        "\n",
        "reto2(1,2,1,2)"
      ],
      "execution_count": 24,
      "outputs": [
        {
          "output_type": "execute_result",
          "data": {
            "text/plain": [
              "1450"
            ]
          },
          "metadata": {
            "tags": []
          },
          "execution_count": 24
        }
      ]
    },
    {
      "cell_type": "markdown",
      "metadata": {
        "id": "o5OBNKNAPMJ1",
        "colab_type": "text"
      },
      "source": [
        "### Reto del día 3\n",
        "Escribe el código para obtener la raiz cuadrada de x, asigna el resultado a una variable b y redondea este valor a cero decimales. Imprime b\n"
      ]
    },
    {
      "cell_type": "code",
      "metadata": {
        "id": "Tq3RZHwVPMJ-",
        "colab_type": "code",
        "colab": {
          "base_uri": "https://localhost:8080/",
          "height": 34
        },
        "outputId": "7768c05f-7934-4d57-a5bd-85f6e84c4e3e"
      },
      "source": [
        "def reto3(x):\n",
        "    raiz=x**(1/2)\n",
        "    numero = raiz\n",
        "    b = int(numero)\n",
        "    return b # Reemplaza 0 por la variable que tiene el resultado\n",
        "\n",
        "reto3(25)"
      ],
      "execution_count": 30,
      "outputs": [
        {
          "output_type": "execute_result",
          "data": {
            "text/plain": [
              "5"
            ]
          },
          "metadata": {
            "tags": []
          },
          "execution_count": 30
        }
      ]
    },
    {
      "cell_type": "markdown",
      "metadata": {
        "id": "wY3XMYgcPMKN",
        "colab_type": "text"
      },
      "source": [
        "### Reto del día 4\n",
        "La ejecución del siguiente código puede ser incorrecta si el usuario no ingresa el numero de la forma correcta. Modifica el código para que devuelva la suma de las dos variables\n"
      ]
    },
    {
      "cell_type": "code",
      "metadata": {
        "id": "G86GuYFAPMKR",
        "colab_type": "code",
        "colab": {
          "base_uri": "https://localhost:8080/",
          "height": 34
        },
        "outputId": "2ba3aac3-70fe-47a0-a6a0-22807fbba383"
      },
      "source": [
        "def reto4(x,y):\n",
        "\n",
        "    num1=int(x)\n",
        "    num2=int(y)\n",
        "    resultado = num1+num2\n",
        "    \n",
        "    return resultado\n",
        "\n",
        "reto4(\"4\",\"4\")"
      ],
      "execution_count": 33,
      "outputs": [
        {
          "output_type": "execute_result",
          "data": {
            "text/plain": [
              "8"
            ]
          },
          "metadata": {
            "tags": []
          },
          "execution_count": 33
        }
      ]
    },
    {
      "cell_type": "code",
      "metadata": {
        "id": "PIXhWkkOPMKm",
        "colab_type": "code",
        "colab": {}
      },
      "source": [
        ""
      ],
      "execution_count": null,
      "outputs": []
    }
  ]
}